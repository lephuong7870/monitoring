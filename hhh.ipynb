{
 "cells": [
  {
   "cell_type": "code",
   "execution_count": null,
   "id": "0cc8adb4",
   "metadata": {},
   "outputs": [
    {
     "ename": "SyntaxError",
     "evalue": "positional argument follows keyword argument (1790069454.py, line 3)",
     "output_type": "error",
     "traceback": [
      "\u001b[1;36m  Cell \u001b[1;32mIn[5], line 3\u001b[1;36m\u001b[0m\n\u001b[1;33m    tt = re.findall(pattern=r'[0-9]{9,}', string)\u001b[0m\n\u001b[1;37m                                                ^\u001b[0m\n\u001b[1;31mSyntaxError\u001b[0m\u001b[1;31m:\u001b[0m positional argument follows keyword argument\n"
     ]
    }
   ],
   "source": [
    "string = \"33333434, 0123456789 , 843438437\"\n",
    "import re\n",
    "pattern = r'[0-9]{9,}'\n",
    "tt = re.findall( pattern , string)\n",
    "tt\n"
   ]
  },
  {
   "cell_type": "code",
   "execution_count": 6,
   "id": "40bce291",
   "metadata": {},
   "outputs": [
    {
     "name": "stdout",
     "output_type": "stream",
     "text": [
      "1748337261370\n"
     ]
    }
   ],
   "source": [
    "import time\n",
    "\n",
    "# Get the current time in seconds (float)\n",
    "seconds_since_epoch = time.time()\n",
    "seconds_since_epoch\n",
    "# Convert to milliseconds by multiplying by 1000\n",
    "milliseconds_since_epoch = int(seconds_since_epoch * 1000)\n",
    "\n",
    "print(milliseconds_since_epoch)\n"
   ]
  },
  {
   "cell_type": "code",
   "execution_count": 3,
   "id": "48fbff6e",
   "metadata": {},
   "outputs": [
    {
     "name": "stdout",
     "output_type": "stream",
     "text": [
      "1748\n"
     ]
    }
   ],
   "source": [
    "import time\n",
    "\n",
    "# Get the current time in seconds (float)\n",
    "seconds_since_epoch = time.time()\n",
    "milliseconds = int(seconds_since_epoch / 1000000)\n",
    "\n",
    "print(milliseconds)"
   ]
  },
  {
   "cell_type": "code",
   "execution_count": 6,
   "id": "52394f70",
   "metadata": {},
   "outputs": [
    {
     "name": "stdout",
     "output_type": "stream",
     "text": [
      "1748338925237\n"
     ]
    }
   ],
   "source": [
    "import time\n",
    "\n",
    "# Get the current time in seconds (float)\n",
    "seconds_since_epoch = time.time()\n",
    "milliseconds = int(seconds_since_epoch * 1000)\n",
    "\n",
    "print(milliseconds)"
   ]
  },
  {
   "cell_type": "code",
   "execution_count": 7,
   "id": "70bf7462",
   "metadata": {},
   "outputs": [
    {
     "name": "stdout",
     "output_type": "stream",
     "text": [
      "1748338927146\n"
     ]
    }
   ],
   "source": [
    "import time\n",
    "\n",
    "# Get the current time in seconds (float)\n",
    "seconds_since_epoch = time.time()\n",
    "milliseconds = int(seconds_since_epoch * 1000)\n",
    "\n",
    "print(milliseconds)"
   ]
  },
  {
   "cell_type": "code",
   "execution_count": 2,
   "id": "66f1ecdb",
   "metadata": {},
   "outputs": [
    {
     "data": {
      "text/plain": [
       "'http://nifi-http.nifi.svc.cluster.local:8080/nifi-api/flow/process-groups'"
      ]
     },
     "execution_count": 2,
     "metadata": {},
     "output_type": "execute_result"
    }
   ],
   "source": [
    "nifi_svc =  \"nifi-http.nifi.svc.cluster.local\" \n",
    "NIFI_API = f\"http://{nifi_svc}:8080/nifi-api/flow/process-groups\" \n",
    "NIFI_API"
   ]
  }
 ],
 "metadata": {
  "kernelspec": {
   "display_name": "Python 3",
   "language": "python",
   "name": "python3"
  },
  "language_info": {
   "codemirror_mode": {
    "name": "ipython",
    "version": 3
   },
   "file_extension": ".py",
   "mimetype": "text/x-python",
   "name": "python",
   "nbconvert_exporter": "python",
   "pygments_lexer": "ipython3",
   "version": "3.12.4"
  }
 },
 "nbformat": 4,
 "nbformat_minor": 5
}
